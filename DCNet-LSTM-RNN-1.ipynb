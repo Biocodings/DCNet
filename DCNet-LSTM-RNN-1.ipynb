{
 "cells": [
  {
   "cell_type": "markdown",
   "metadata": {},
   "source": [
    "# DCNet - A simple LSTM-RNN for generating sequence consensus"
   ]
  },
  {
   "cell_type": "markdown",
   "metadata": {},
   "source": [
    "First, we need some boilerplate code to load the PyTorch and other modules "
   ]
  },
  {
   "cell_type": "code",
   "execution_count": 1,
   "metadata": {},
   "outputs": [
    {
     "data": {
      "text/plain": [
       "<torch._C.Generator at 0x7f75680bde10>"
      ]
     },
     "execution_count": 1,
     "metadata": {},
     "output_type": "execute_result"
    }
   ],
   "source": [
    "import torch\n",
    "import torch.autograd as autograd\n",
    "import torch.nn as nn\n",
    "import torch.nn.functional as F\n",
    "import torch.optim as optim\n",
    "from torch.autograd import Variable\n",
    "\n",
    "torch.manual_seed(42)"
   ]
  },
  {
   "cell_type": "code",
   "execution_count": 2,
   "metadata": {},
   "outputs": [],
   "source": [
    "from matplotlib import pyplot as plt\n",
    "%matplotlib inline"
   ]
  },
  {
   "cell_type": "markdown",
   "metadata": {},
   "source": [
    "Here we define the simple DCNet class as subclass of `torch.nn.Module`."
   ]
  },
  {
   "cell_type": "code",
   "execution_count": 3,
   "metadata": {},
   "outputs": [],
   "source": [
    "class DCNet(nn.Module):\n",
    "\n",
    "    def __init__(self, hidden_dim, layer1_dim, layer2_dim):\n",
    "        super(DCNet, self).__init__()\n",
    "        self.hidden_dim = hidden_dim\n",
    "\n",
    "        self.lstm = nn.LSTM(4, hidden_dim) \n",
    "        self.linear1 = nn.Linear(hidden_dim, layer1_dim)\n",
    "        self.relu1 = nn.ReLU()\n",
    "        self.linear2 = nn.Linear(layer1_dim, layer2_dim)\n",
    "        self.relu2 = nn.ReLU()\n",
    "        self.linear3 = nn.Linear(layer2_dim, 4)\n",
    "        self.hidden_init_values = None\n",
    "        self.hidden = self.init_hidden()\n",
    "        nn.init.xavier_uniform(self.linear1.weight)\n",
    "        nn.init.xavier_uniform(self.linear2.weight)\n",
    "        nn.init.xavier_uniform(self.linear3.weight)\n",
    "        \n",
    "    def init_hidden(self):\n",
    "        if self.hidden_init_values == None:\n",
    "            self.hidden_init_values = (autograd.Variable(torch.randn(1, 1, self.hidden_dim)),\n",
    "                                       autograd.Variable(torch.randn(1, 1, self.hidden_dim)))\n",
    "        return self.hidden_init_values\n",
    "\n",
    "    def forward(self, seq):\n",
    "        lstm_out, self.hidden = self.lstm(\n",
    "            seq.view(len(seq), 1, -1), self.hidden)\n",
    "        tmp1 = self.relu1(self.linear1(lstm_out.view(len(seq), -1)))\n",
    "        tmp2 = self.relu2(self.linear2(tmp1))\n",
    "        _out = self.linear3(tmp2)\n",
    "        base_out = _out\n",
    "        return base_out\n"
   ]
  },
  {
   "cell_type": "markdown",
   "metadata": {},
   "source": [
    "We define a couple utility functions for encoding DNA bases to vectors and simulate sequencing errors."
   ]
  },
  {
   "cell_type": "code",
   "execution_count": 4,
   "metadata": {},
   "outputs": [
    {
     "name": "stdout",
     "output_type": "stream",
     "text": [
      "one-hot encoding for DNA bases\n",
      "A: [[1, 0, 0, 0]]\n",
      "C: [[0, 1, 0, 0]]\n",
      "G: [[0, 0, 1, 0]]\n",
      "T: [[0, 0, 0, 1]]\n"
     ]
    }
   ],
   "source": [
    "import random\n",
    "torch.set_default_tensor_type('torch.cuda.FloatTensor')\n",
    "\n",
    "bmap = {\"A\":0, \"C\":1, \"G\":2, \"T\":3}\n",
    "def one_hot(b):\n",
    "    t = [[0,0,0,0]]\n",
    "    i = bmap[b]\n",
    "    t[0][i] = 1\n",
    "    return t\n",
    "\n",
    "print(\"one-hot encoding for DNA bases\")\n",
    "print(\"A:\", one_hot(\"A\"))\n",
    "print(\"C:\", one_hot(\"C\"))\n",
    "print(\"G:\", one_hot(\"G\"))\n",
    "print(\"T:\", one_hot(\"T\"))\n"
   ]
  },
  {
   "cell_type": "code",
   "execution_count": 5,
   "metadata": {},
   "outputs": [],
   "source": [
    "def sim_error(seq, pi=0.05, pd=0.05, ps=0.01):\n",
    "    \"\"\"\n",
    "    Given an input sequence `seq`, generating another\n",
    "    sequence with errors. \n",
    "    pi: insertion error rate\n",
    "    pd: deletion error rate\n",
    "    ps: substitution error rate\n",
    "    \"\"\"\n",
    "    out_seq = []\n",
    "    for c in seq:\n",
    "        while 1:\n",
    "            r = random.uniform(0,1)\n",
    "            if r < pi:\n",
    "                out_seq.append(random.choice([\"A\",\"C\",\"G\",\"T\"]))\n",
    "            else:\n",
    "                break\n",
    "        r -= pi\n",
    "        if r < pd:\n",
    "            continue\n",
    "        r -= pd\n",
    "        if r < ps:\n",
    "            out_seq.append(random.choice([\"A\",\"C\",\"G\",\"T\"]))\n",
    "            continue\n",
    "        out_seq.append(c)\n",
    "    return \"\".join(out_seq)"
   ]
  },
  {
   "cell_type": "markdown",
   "metadata": {},
   "source": [
    "Generate a random sequence of length 220 as our original teamplate sequences."
   ]
  },
  {
   "cell_type": "code",
   "execution_count": 6,
   "metadata": {},
   "outputs": [
    {
     "name": "stdout",
     "output_type": "stream",
     "text": [
      "GCAGAGTGTCTTGAGAAGCTGCGATATTAGGAGGTGAGAAGAATGTTATCTCGTTTTGCCGCTCGTGAGGGATAAAAGAGAGGGATTTGCCGGCGCCCCTCCGGACGGTCTTTCTGCGTAGCGCGTAAGGAGCCACGTTCGCTCTATCTATGAATCAGCCTAATTGCCTACCATCACGCGTTAACTTCGCGAACTGTTGTGTTAACGGGGTTTGGTAACA\n"
     ]
    }
   ],
   "source": [
    "seq = [random.choice([\"A\",\"C\",\"G\",\"T\"]) for _ in range(220)]\n",
    "print(\"\".join(seq))\n",
    "# convert the `seq` to a PyTorch tensor"
   ]
  },
  {
   "cell_type": "code",
   "execution_count": 7,
   "metadata": {},
   "outputs": [],
   "source": [
    "seq_t = Variable(torch.FloatTensor([one_hot(c) for c in seq])).cuda()"
   ]
  },
  {
   "cell_type": "markdown",
   "metadata": {},
   "source": [
    "Simulate 20 erroneous sequences with insertion error at 5%, deletion errors at 5% and subsitution error at 1%."
   ]
  },
  {
   "cell_type": "code",
   "execution_count": 8,
   "metadata": {},
   "outputs": [],
   "source": [
    "seqs = [sim_error(seq, pi=0.05, pd=0.05, ps=0.01) for _ in range(20)]\n",
    "seqs_t = [Variable(torch.FloatTensor([one_hot(c) for c in s])).cuda()  for s in seqs]"
   ]
  },
  {
   "cell_type": "markdown",
   "metadata": {},
   "source": [
    "Initialize the DCNet."
   ]
  },
  {
   "cell_type": "code",
   "execution_count": 9,
   "metadata": {},
   "outputs": [],
   "source": [
    "dcnet = DCNet(32, 12, 12)\n",
    "dcnet.cuda()\n",
    "dcnet.zero_grad()\n",
    "dcnet.hidden = dcnet.init_hidden()\n",
    "\n",
    "# initial the paramerters in the DCNet\n",
    "for name, param in dcnet.named_parameters():\n",
    "    if 'bias' in name:\n",
    "        nn.init.constant(param, 0.0)\n",
    "    elif 'weight' in name:\n",
    "        nn.init.xavier_normal(param)"
   ]
  },
  {
   "cell_type": "markdown",
   "metadata": {},
   "source": [
    "Set up the loss function and SGD optimizer."
   ]
  },
  {
   "cell_type": "code",
   "execution_count": 10,
   "metadata": {},
   "outputs": [],
   "source": [
    "#loss_function = nn.L1Loss()\n",
    "loss_function = nn.MSELoss()\n",
    "lr = 0.1\n",
    "optimizer = optim.SGD(dcnet.parameters(), lr=lr)"
   ]
  },
  {
   "cell_type": "markdown",
   "metadata": {},
   "source": [
    "The following loop train the DCnet using the noisy sequences. We also lowe the learning rate `lr` every 250 epoches"
   ]
  },
  {
   "cell_type": "code",
   "execution_count": 11,
   "metadata": {
    "scrolled": false
   },
   "outputs": [
    {
     "name": "stdout",
     "output_type": "stream",
     "text": [
      "epoch: 0 loss: 0.19018932580947875 learning rate: 0.1\n",
      "epoch: 250 loss: 0.17518401145935059 learning rate: 0.095\n",
      "epoch: 500 loss: 0.16577192544937133 learning rate: 0.09025\n",
      "epoch: 750 loss: 0.15524245500564576 learning rate: 0.0857375\n",
      "epoch: 1000 loss: 0.1374993085861206 learning rate: 0.08145062499999998\n",
      "epoch: 1250 loss: 0.11767659187316895 learning rate: 0.07737809374999999\n",
      "epoch: 1500 loss: 0.1027831792831421 learning rate: 0.07350918906249998\n",
      "epoch: 1750 loss: 0.07694831490516663 learning rate: 0.06983372960937498\n",
      "epoch: 2000 loss: 0.06526079177856445 learning rate: 0.06634204312890622\n",
      "epoch: 2250 loss: 0.06563617587089539 learning rate: 0.0630249409724609\n",
      "epoch: 2500 loss: 0.06625906229019166 learning rate: 0.05987369392383786\n",
      "epoch: 2750 loss: 0.05464552044868469 learning rate: 0.05688000922764597\n",
      "epoch: 3000 loss: 0.05224104523658753 learning rate: 0.05403600876626367\n",
      "epoch: 3250 loss: 0.05235886573791504 learning rate: 0.05133420832795048\n",
      "epoch: 3500 loss: 0.05326908826828003 learning rate: 0.04876749791155295\n",
      "epoch: 3750 loss: 0.053377366065979 learning rate: 0.046329123015975304\n",
      "epoch: 4000 loss: 0.04855733811855316 learning rate: 0.04401266686517654\n",
      "epoch: 4250 loss: 0.0466700941324234 learning rate: 0.04181203352191771\n",
      "epoch: 4500 loss: 0.046788111329078674 learning rate: 0.039721431845821824\n",
      "epoch: 4750 loss: 0.13949306011199952 learning rate: 0.037735360253530734\n",
      "epoch: 5000 loss: 0.10869755744934081 learning rate: 0.035848592240854196\n",
      "epoch: 5250 loss: 0.08526361584663392 learning rate: 0.03405616262881148\n",
      "epoch: 5500 loss: 0.08751073479652405 learning rate: 0.03235335449737091\n",
      "epoch: 5750 loss: 0.07552868723869324 learning rate: 0.030735686772502362\n",
      "epoch: 6000 loss: 0.0690901517868042 learning rate: 0.029198902433877242\n",
      "epoch: 6250 loss: 0.06127279996871948 learning rate: 0.027738957312183378\n",
      "epoch: 6500 loss: 0.06783552765846253 learning rate: 0.026352009446574207\n",
      "epoch: 6750 loss: 0.06472737193107606 learning rate: 0.025034408974245494\n",
      "epoch: 7000 loss: 0.05249022245407105 learning rate: 0.023782688525533217\n",
      "epoch: 7250 loss: 0.05352437496185303 learning rate: 0.022593554099256556\n",
      "epoch: 7500 loss: 0.059434044361114505 learning rate: 0.021463876394293726\n"
     ]
    }
   ],
   "source": [
    "range_ = (1, 200)\n",
    "mini_batch_size = 5\n",
    "for epoch in range(7501):\n",
    "    for i in range(int(len(seqs_t)/mini_batch_size)):\n",
    "        loss = 0\n",
    "        s, e = range_\n",
    "        for seq2 in random.sample(seqs_t, mini_batch_size):\n",
    "            dcnet.hidden = dcnet.init_hidden()\n",
    "            dcnet.zero_grad()\n",
    "            seq2 = seq2[s-1:e]\n",
    "            seq_ = seq2.view(-1,4)\n",
    "            out = dcnet(seq_)\n",
    "            loss += loss_function(out[:-1], seq_[1:])\n",
    "        loss.backward()\n",
    "        optimizer.step()\n",
    "    if epoch % 250==0:\n",
    "        print(\"epoch:\", epoch, \"loss:\", loss.cpu().data[0]/mini_batch_size, \"learning rate:\", lr)\n",
    "        lr *= 0.95\n",
    "        optimizer = optim.SGD(dcnet.parameters(), lr=lr)"
   ]
  },
  {
   "cell_type": "markdown",
   "metadata": {},
   "source": [
    "We can visualize the input and output tensors after we send the whole original template into the DCNet to reconstruct the output tensor. "
   ]
  },
  {
   "cell_type": "code",
   "execution_count": 12,
   "metadata": {},
   "outputs": [],
   "source": [
    "import numpy as np\n",
    "dcnet.hidden = dcnet.init_hidden()\n",
    "xout = dcnet(seq_t[:250])\n",
    "x1 = xout[:-1].cpu().data.numpy() \n",
    "xx1=np.transpose(seq_t[1:250,0,:].data.cpu().numpy())\n",
    "xx2=np.transpose(x1)\n"
   ]
  },
  {
   "cell_type": "markdown",
   "metadata": {},
   "source": [
    "The cell below plots three matrices. The first one is from the original template. The second one is the reconstruction from the the DCNet using the whole initial template as input. The third one is the differences between the two matrices. In some cases, if the training of the DCNet is not properly converged, you might see a lot of spot lighting up in the third matrix."
   ]
  },
  {
   "cell_type": "code",
   "execution_count": 13,
   "metadata": {},
   "outputs": [
    {
     "data": {
      "image/png": "[encoded data removed]",
      "text/plain": [
       "<matplotlib.figure.Figure at 0x7f750c08ef28>"
      ]
     },
     "metadata": {},
     "output_type": "display_data"
    }
   ],
   "source": [
    "plt.figure(figsize=(18,3))\n",
    "plt.subplot(3,1,1)\n",
    "plt.matshow(xx1, vmin=-0.1, vmax=1.1, fignum=False)\n",
    "plt.text(0,6,\"the tensor for the original template\")\n",
    "frame = plt.gca()\n",
    "frame.axes.yaxis.set_ticklabels([])\n",
    "\n",
    "plt.subplot(3,1,2)\n",
    "plt.matshow(xx2, vmin=-0.1, vmax=1.1, fignum=False)\n",
    "plt.text(0,6,\"reconstructed tensor from the DCNet\")\n",
    "frame = plt.gca()\n",
    "frame.axes.yaxis.set_ticklabels([])\n",
    "\n",
    "plt.subplot(3,1,3)\n",
    "plt.matshow(xx1-xx2, vmin=-0.1, vmax=1.1, fignum=False)\n",
    "plt.text(0,6,\"differences\");\n",
    "frame = plt.gca()\n",
    "frame.axes.yaxis.set_ticklabels([]);"
   ]
  },
  {
   "cell_type": "markdown",
   "metadata": {},
   "source": [
    "The following code snippet using DCNet to generate a consensus sequence with only the first base in the template. "
   ]
  },
  {
   "cell_type": "code",
   "execution_count": 14,
   "metadata": {},
   "outputs": [],
   "source": [
    "dcnet.hidden = dcnet.init_hidden()\n",
    "base_t= Variable(torch.FloatTensor([one_hot(seq[0])])).cuda()\n",
    "\n",
    "consensus = []\n",
    "\n",
    "for _ in range(201):\n",
    "    xout = dcnet(base_t)\n",
    "    next_t = [0,0,0,0]\n",
    "    next_t[np.argmax(xout.cpu().data.numpy())]=1\n",
    "    consensus.append(next_t)\n",
    "    base_t= Variable(torch.FloatTensor([next_t])).cuda()\n",
    "consensus = np.array(consensus)\n",
    "consensus = consensus.transpose()"
   ]
  },
  {
   "cell_type": "markdown",
   "metadata": {},
   "source": [
    "Let's compare the generated consensus to the original template. If we have generate the consensus perfectly matching the original template, the elements of the third matrix will be all zeros (blue color)."
   ]
  },
  {
   "cell_type": "code",
   "execution_count": 15,
   "metadata": {},
   "outputs": [
    {
     "data": {
      "image/png": "[encoded data removed]",
      "text/plain": [
       "<matplotlib.figure.Figure at 0x7f74b0962080>"
      ]
     },
     "metadata": {},
     "output_type": "display_data"
    }
   ],
   "source": [
    "\n",
    "plt.figure(figsize=(18,3))\n",
    "plt.subplot(3,1,1)\n",
    "plt.matshow(xx1[:,0:201], vmin=-0.1, vmax=1.1, fignum=False)\n",
    "plt.text(0,6,\"the tensor for the original template\")\n",
    "frame = plt.gca()\n",
    "frame.axes.yaxis.set_ticklabels([])\n",
    "\n",
    "plt.subplot(3,1,2)\n",
    "plt.matshow(consensus, vmin=-0.1, vmax=1.1, fignum=False)\n",
    "plt.text(0,6,\"generated consensus from the DCNet\")\n",
    "frame = plt.gca()\n",
    "frame.axes.yaxis.set_ticklabels([])\n",
    "\n",
    "plt.subplot(3,1,3)\n",
    "plt.matshow(consensus-xx1[:,0:201], vmin=-0.1, vmax=1.1, fignum=False)\n",
    "plt.text(0,6,\"differences\")\n",
    "frame = plt.gca()\n",
    "frame.axes.yaxis.set_ticklabels([]);"
   ]
  },
  {
   "cell_type": "markdown",
   "metadata": {},
   "source": [
    "Let's try an interesting experiment to see if the DCNet can be used to find a homologous sub-sequence embedding in a long strech of sequences. We create a new sequence that embed the oringal template sequences with some noises inside other random sequences.  If we send the full sequence to DCNet, We expect that the reconstructed sequence will have less different in the region that is homologuous to the original templae."
   ]
  },
  {
   "cell_type": "code",
   "execution_count": 16,
   "metadata": {},
   "outputs": [],
   "source": [
    "dcnet.hidden = dcnet.init_hidden()\n",
    "\n",
    "seq_prefix = [random.choice([\"A\",\"C\",\"G\",\"T\"]) for _ in range(100)]\n",
    "seq_suffix = [random.choice([\"A\",\"C\",\"G\",\"T\"]) for _ in range(100)]\n",
    "seq_t2 = Variable(torch.FloatTensor([one_hot(c) for c in seq_prefix+list(sim_error(seq, pi=0.02, pd=0.02, ps=0.02))+seq_suffix])).cuda()\n",
    "\n",
    "xout = dcnet(seq_t2)\n",
    "x1 = xout[:-1].cpu().data.numpy()\n",
    "xx1=np.transpose(seq_t2[1:,0,:].data.cpu().numpy())\n",
    "xx2=np.transpose(x1)\n"
   ]
  },
  {
   "cell_type": "markdown",
   "metadata": {},
   "source": [
    "The following code plot the reconstrution and the difference to the input sequence. (You might need to double click on the the plot to enlarge the plot to see it clearer.). The sequence used to train the DCNet is embedded roughly from base 100 to 300. Once can see the difference over that region is smaller than other regions. However, the convergence may not happend immediately from base 100, as it could take a while for DCNet recognized the network has \"seen\" some similar sequences. "
   ]
  },
  {
   "cell_type": "code",
   "execution_count": 17,
   "metadata": {},
   "outputs": [
    {
     "data": {
      "image/png": "[encoded data removed]",
      "text/plain": [
       "<matplotlib.figure.Figure at 0x7f7586e8d240>"
      ]
     },
     "metadata": {},
     "output_type": "display_data"
    }
   ],
   "source": [
    "plt.figure(figsize=(32,4))\n",
    "plt.subplot(3,1,1)\n",
    "plt.matshow(xx1, vmin=-0.1, vmax=1.1, fignum=False)\n",
    "plt.text(0,9,\"a tensor embedding some homologous sequences from the original template\")\n",
    "frame = plt.gca()\n",
    "frame.axes.yaxis.set_ticklabels([])\n",
    "\n",
    "plt.subplot(3,1,2)\n",
    "plt.matshow(xx2, vmin=-0.1, vmax=1.1, fignum=False)\n",
    "plt.text(0,9,\"reconstructed tensor from the DCNet\")\n",
    "frame = plt.gca()\n",
    "frame.axes.yaxis.set_ticklabels([])\n",
    "\n",
    "plt.subplot(3,1,3)\n",
    "plt.matshow(xx1-xx2, vmin=-0.1, vmax=1.1, fignum=False)\n",
    "plt.text(0,9,\"differences\");\n",
    "frame = plt.gca()\n",
    "frame.axes.yaxis.set_ticklabels([]);"
   ]
  },
  {
   "cell_type": "markdown",
   "metadata": {},
   "source": [
    "Jason Chin, Mar. 2018"
   ]
  }
 ],
 "metadata": {
  "kernelspec": {
   "display_name": "Python 3",
   "language": "python",
   "name": "python3"
  },
  "language_info": {
   "codemirror_mode": {
    "name": "ipython",
    "version": 3
   },
   "file_extension": ".py",
   "mimetype": "text/x-python",
   "name": "python",
   "nbconvert_exporter": "python",
   "pygments_lexer": "ipython3",
   "version": "3.6.3"
  }
 },
 "nbformat": 4,
 "nbformat_minor": 2
}
