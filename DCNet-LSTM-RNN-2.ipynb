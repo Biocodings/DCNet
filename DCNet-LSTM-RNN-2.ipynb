{
 "cells": [
  {
   "cell_type": "markdown",
   "metadata": {},
   "source": [
    "# DCNet - A simple LSTM-RNN for generating sequence consensus II"
   ]
  },
  {
   "cell_type": "markdown",
   "metadata": {},
   "source": [
    "This is the second part of the DCNet notebook. The general DCNet setup and training is the same as part I, but we are training the DCNet taking two sets of noisy sequences instead of one.  "
   ]
  },
  {
   "cell_type": "code",
   "execution_count": 1,
   "metadata": {},
   "outputs": [
    {
     "data": {
      "text/plain": [
       "<torch._C.Generator at 0x7efcd4035d30>"
      ]
     },
     "execution_count": 1,
     "metadata": {},
     "output_type": "execute_result"
    }
   ],
   "source": [
    "import torch\n",
    "import torch.autograd as autograd\n",
    "import torch.nn as nn\n",
    "import torch.nn.functional as F\n",
    "import torch.optim as optim\n",
    "from torch.autograd import Variable\n",
    "\n",
    "torch.manual_seed(42)"
   ]
  },
  {
   "cell_type": "code",
   "execution_count": 2,
   "metadata": {},
   "outputs": [],
   "source": [
    "from matplotlib import pyplot as plt\n",
    "%matplotlib inline"
   ]
  },
  {
   "cell_type": "markdown",
   "metadata": {},
   "source": [
    "Here we define the simple DCNet class as subclass of `torch.nn.Module`."
   ]
  },
  {
   "cell_type": "code",
   "execution_count": 3,
   "metadata": {},
   "outputs": [],
   "source": [
    "class DCNet(nn.Module):\n",
    "\n",
    "    def __init__(self, hidden_dim, layer1_dim, layer2_dim):\n",
    "        super(DCNet, self).__init__()\n",
    "        self.hidden_dim = hidden_dim\n",
    "\n",
    "        self.lstm = nn.LSTM(4, hidden_dim) \n",
    "        self.linear1 = nn.Linear(hidden_dim, layer1_dim)\n",
    "        self.relu1 = nn.ReLU()\n",
    "        self.linear2 = nn.Linear(layer1_dim, layer2_dim)\n",
    "        self.relu2 = nn.ReLU()\n",
    "        self.linear3 = nn.Linear(layer2_dim, 4)\n",
    "        self.hidden_init_values = None\n",
    "        self.hidden = self.init_hidden()\n",
    "        nn.init.xavier_uniform(self.linear1.weight)\n",
    "        nn.init.xavier_uniform(self.linear2.weight)\n",
    "        nn.init.xavier_uniform(self.linear3.weight)\n",
    "        \n",
    "    def init_hidden(self):\n",
    "        if self.hidden_init_values == None:\n",
    "            self.hidden_init_values = (autograd.Variable(torch.randn(1, 1, self.hidden_dim)),\n",
    "                                       autograd.Variable(torch.randn(1, 1, self.hidden_dim)))\n",
    "        return self.hidden_init_values\n",
    "\n",
    "    def forward(self, seq):\n",
    "        lstm_out, self.hidden = self.lstm(\n",
    "            seq.view(len(seq), 1, -1), self.hidden)\n",
    "        tmp1 = self.relu1(self.linear1(lstm_out.view(len(seq), -1)))\n",
    "        tmp2 = self.relu2(self.linear2(tmp1))\n",
    "        _out = self.linear3(tmp2)\n",
    "        base_out = _out\n",
    "        return base_out\n"
   ]
  },
  {
   "cell_type": "markdown",
   "metadata": {},
   "source": [
    "We define a couple utility functions for encoding DNA bases to vectors and simulate sequencing errors."
   ]
  },
  {
   "cell_type": "code",
   "execution_count": 4,
   "metadata": {},
   "outputs": [
    {
     "name": "stdout",
     "output_type": "stream",
     "text": [
      "one-hot encoding for DNA bases\n",
      "A: [[1, 0, 0, 0]]\n",
      "C: [[0, 1, 0, 0]]\n",
      "G: [[0, 0, 1, 0]]\n",
      "T: [[0, 0, 0, 1]]\n"
     ]
    }
   ],
   "source": [
    "import random\n",
    "torch.set_default_tensor_type('torch.cuda.FloatTensor')\n",
    "\n",
    "bmap = {\"A\":0, \"C\":1, \"G\":2, \"T\":3}\n",
    "def one_hot(b):\n",
    "    t = [[0,0,0,0]]\n",
    "    i = bmap[b]\n",
    "    t[0][i] = 1\n",
    "    return t\n",
    "\n",
    "print(\"one-hot encoding for DNA bases\")\n",
    "print(\"A:\", one_hot(\"A\"))\n",
    "print(\"C:\", one_hot(\"C\"))\n",
    "print(\"G:\", one_hot(\"G\"))\n",
    "print(\"T:\", one_hot(\"T\"))\n"
   ]
  },
  {
   "cell_type": "code",
   "execution_count": 5,
   "metadata": {},
   "outputs": [],
   "source": [
    "def sim_error(seq, pi=0.05, pd=0.05, ps=0.01):\n",
    "    \"\"\"\n",
    "    Given an input sequence `seq`, generating another\n",
    "    sequence with errors. \n",
    "    pi: insertion error rate\n",
    "    pd: deletion error rate\n",
    "    ps: substitution error rate\n",
    "    \"\"\"\n",
    "    out_seq = []\n",
    "    for c in seq:\n",
    "        while 1:\n",
    "            r = random.uniform(0,1)\n",
    "            if r < pi:\n",
    "                out_seq.append(random.choice([\"A\",\"C\",\"G\",\"T\"]))\n",
    "            else:\n",
    "                break\n",
    "        r -= pi\n",
    "        if r < pd:\n",
    "            continue\n",
    "        r -= pd\n",
    "        if r < ps:\n",
    "            out_seq.append(random.choice([\"A\",\"C\",\"G\",\"T\"]))\n",
    "            continue\n",
    "        out_seq.append(c)\n",
    "    return \"\".join(out_seq)"
   ]
  },
  {
   "cell_type": "markdown",
   "metadata": {},
   "source": [
    "Generate a random sequence of length 220 as our original teamplate sequences."
   ]
  },
  {
   "cell_type": "code",
   "execution_count": 6,
   "metadata": {},
   "outputs": [
    {
     "name": "stdout",
     "output_type": "stream",
     "text": [
      "seq1 AAAAAAACGTGTGGGCTTTCGGGATAACAGCTCGGCCATAGACGTCACGCTTGGAAGATTTGACCAAAAGACTATTCTCGGTTTCTTCTTAAATGGGACCCTTACCGTGCAGCTACGGCATCTAAGTCCGTGGGTTTGAATAGTAAAGGTTGATATTAGCGAATGGGAACACCGAATAGGCCGGTGCTCAATTCGTAGCGAGGCGCATGTCACTGACGGCACCCTTT\n",
      "\n",
      "seq2 TTTTTTTAGCCCCAGTTTTATGAGATATTATTGAAGGACGCGATATACCAGTCTGTGTAAACGACGAGAGTTATTTTTTATTTATTTACCCGCTCCACAGTGAACAACCAACGCAGCTATGCGGTGAGGCACCGCGCAAGATAACACAAACTACTTATTTGATCCGTCACGCCCGGGGAGTCAAACGTGGTGCATGAGGGTGTCAGTGCACTATCATAATCGATGTG\n"
     ]
    }
   ],
   "source": [
    "seq1 = list(\"AAAAAAA\")+[random.choice([\"A\",\"C\",\"G\",\"T\"]) for _ in range(220)]\n",
    "print(\"seq1\", \"\".join(seq1))\n",
    "# convert the `seq` to a PyTorch tensor\n",
    "print()\n",
    "seq2 = list(\"TTTTTTT\")+[random.choice([\"A\",\"C\",\"G\",\"T\"]) for _ in range(220)]\n",
    "print(\"seq2\", \"\".join(seq2))\n",
    "# convert the `seq` to a PyTorch tensor"
   ]
  },
  {
   "cell_type": "code",
   "execution_count": 7,
   "metadata": {},
   "outputs": [],
   "source": [
    "seq1_t = Variable(torch.FloatTensor([one_hot(c) for c in seq1])).cuda()\n",
    "seq2_t = Variable(torch.FloatTensor([one_hot(c) for c in seq2])).cuda()"
   ]
  },
  {
   "cell_type": "markdown",
   "metadata": {},
   "source": [
    "Simulate two sets of 20 erroneous sequences with insertion error at 5%, deletion errors at 5% and subsitution error at 1%."
   ]
  },
  {
   "cell_type": "code",
   "execution_count": 8,
   "metadata": {},
   "outputs": [],
   "source": [
    "seqs1 = [sim_error(seq1, pi=0.05, pd=0.05, ps=0.01) for _ in range(30)]\n",
    "seqs2 = [sim_error(seq2, pi=0.05, pd=0.05, ps=0.01) for _ in range(30)]\n",
    "seqs_all_t= [Variable(torch.FloatTensor([one_hot(c) for c in s])).cuda() for s in seqs1+seqs2]"
   ]
  },
  {
   "cell_type": "markdown",
   "metadata": {},
   "source": [
    "Initialize the DCNet."
   ]
  },
  {
   "cell_type": "code",
   "execution_count": 9,
   "metadata": {},
   "outputs": [],
   "source": [
    "dcnet = DCNet(32, 12, 12)\n",
    "dcnet.cuda()\n",
    "dcnet.zero_grad()\n",
    "dcnet.hidden = dcnet.init_hidden()\n",
    "\n",
    "# initial the paramerters in the DCNet\n",
    "for name, param in dcnet.named_parameters():\n",
    "    if 'bias' in name:\n",
    "        nn.init.constant(param, 0.0)\n",
    "    elif 'weight' in name:\n",
    "        nn.init.xavier_normal(param)"
   ]
  },
  {
   "cell_type": "markdown",
   "metadata": {},
   "source": [
    "Set up the loss function and SGD optimizer."
   ]
  },
  {
   "cell_type": "code",
   "execution_count": 10,
   "metadata": {},
   "outputs": [],
   "source": [
    "#loss_function = nn.L1Loss()\n",
    "loss_function = nn.MSELoss()\n",
    "lr = 0.1\n",
    "optimizer = optim.SGD(dcnet.parameters(), lr=lr)"
   ]
  },
  {
   "cell_type": "markdown",
   "metadata": {},
   "source": [
    "The following loop train the DCnet using the noisy sequences. We also lowe the learning rate `lr` every 250 epoches."
   ]
  },
  {
   "cell_type": "code",
   "execution_count": 11,
   "metadata": {
    "scrolled": false
   },
   "outputs": [
    {
     "name": "stdout",
     "output_type": "stream",
     "text": [
      "epoch: 0 loss: 0.1865086078643799 learning rate: 0.1\n",
      "epoch: 250 loss: 0.17528269290924073 learning rate: 0.085\n",
      "epoch: 500 loss: 0.15304793119430543 learning rate: 0.07225000000000001\n",
      "epoch: 750 loss: 0.12408238649368286 learning rate: 0.06141250000000001\n",
      "epoch: 1000 loss: 0.11247080564498901 learning rate: 0.05220062500000001\n",
      "epoch: 1250 loss: 0.08338894844055175 learning rate: 0.044370531250000005\n",
      "epoch: 1500 loss: 0.07577556967735291 learning rate: 0.0377149515625\n",
      "epoch: 1750 loss: 0.06557581424713135 learning rate: 0.032057708828125\n",
      "epoch: 2000 loss: 0.07113157510757447 learning rate: 0.027249052503906253\n",
      "epoch: 2250 loss: 0.06631016135215759 learning rate: 0.023161694628320316\n",
      "epoch: 2500 loss: 0.06257652640342712 learning rate: 0.019687440434072268\n",
      "epoch: 2750 loss: 0.06399997472763061 learning rate: 0.01673432436896143\n",
      "epoch: 3000 loss: 0.06198531985282898 learning rate: 0.014224175713617214\n",
      "epoch: 3250 loss: 0.06464138627052307 learning rate: 0.012090549356574632\n",
      "epoch: 3500 loss: 0.06668366193771362 learning rate: 0.010276966953088437\n",
      "epoch: 3750 loss: 0.06193576455116272 learning rate: 0.008735421910125172\n",
      "epoch: 4000 loss: 0.05763198137283325 learning rate: 0.007425108623606395\n",
      "epoch: 4250 loss: 0.06312738656997681 learning rate: 0.006311342330065436\n",
      "epoch: 4500 loss: 0.05229389667510986 learning rate: 0.005364640980555621\n"
     ]
    }
   ],
   "source": [
    "range_ = (1, 200)\n",
    "mini_batch_size = 5\n",
    "for epoch in range(4501):\n",
    "    for i in range(int(len(seqs_all_t)/mini_batch_size)):\n",
    "        loss = 0\n",
    "        s, e = range_\n",
    "        for tmp_seq in random.sample(seqs_all_t, mini_batch_size):\n",
    "            dcnet.hidden = dcnet.init_hidden()\n",
    "            dcnet.zero_grad()\n",
    "            tmp_seq = tmp_seq[s-1:e]\n",
    "            seq_ = tmp_seq.view(-1,4)\n",
    "            out = dcnet(seq_)\n",
    "            loss += loss_function(out[:-1], seq_[1:])\n",
    "        loss.backward()\n",
    "        optimizer.step()\n",
    "    if epoch % 250==0:\n",
    "        print(\"epoch:\", epoch, \"loss:\", loss.cpu().data[0]/mini_batch_size, \"learning rate:\", lr)\n",
    "        lr *= 0.85\n",
    "        optimizer = optim.SGD(dcnet.parameters(), lr=lr)"
   ]
  },
  {
   "cell_type": "markdown",
   "metadata": {},
   "source": [
    "We can visualize the input and output tensors after we send the whole original template into the DCNet to reconstruct the output tensor from the first sequences."
   ]
  },
  {
   "cell_type": "code",
   "execution_count": 12,
   "metadata": {},
   "outputs": [],
   "source": [
    "import numpy as np\n",
    "dcnet.hidden = dcnet.init_hidden()\n",
    "xout = dcnet(seq1_t[:250])\n",
    "x1 = xout[:-1].cpu().data.numpy() \n",
    "xx1=np.transpose(seq1_t[1:250,0,:].data.cpu().numpy())\n",
    "xx2=np.transpose(x1)\n"
   ]
  },
  {
   "cell_type": "markdown",
   "metadata": {},
   "source": [
    "The cell below plots three matrices. The first one is from the original template. The second one is the reconstruction from the the DCNet using the whole initial template as input. The third one is the differece between the two matrices. In some cases, if the training of the DCNet is not properly conveged, you might see a lot of spot lighting up in the third matrix."
   ]
  },
  {
   "cell_type": "code",
   "execution_count": 13,
   "metadata": {},
   "outputs": [
    {
     "data": {
      "image/png": "[encoded data removed]",
      "text/plain": [
       "<matplotlib.figure.Figure at 0x7efc78093eb8>"
      ]
     },
     "metadata": {},
     "output_type": "display_data"
    }
   ],
   "source": [
    "plt.figure(figsize=(18,3))\n",
    "plt.subplot(3,1,1)\n",
    "plt.matshow(xx1, vmin=-0.1, vmax=1.1, fignum=False)\n",
    "plt.text(0,6,\"the tensor for the original template\")\n",
    "frame = plt.gca()\n",
    "frame.axes.yaxis.set_ticklabels([])\n",
    "\n",
    "plt.subplot(3,1,2)\n",
    "plt.matshow(xx2, vmin=-0.1, vmax=1.1, fignum=False)\n",
    "plt.text(0,6,\"reconstructed tensor from the DCNet\")\n",
    "frame = plt.gca()\n",
    "frame.axes.yaxis.set_ticklabels([])\n",
    "\n",
    "plt.subplot(3,1,3)\n",
    "plt.matshow(xx1-xx2, vmin=-0.1, vmax=1.1, fignum=False)\n",
    "plt.text(0,6,\"differences\");\n",
    "frame = plt.gca()\n",
    "frame.axes.yaxis.set_ticklabels([]);"
   ]
  },
  {
   "cell_type": "code",
   "execution_count": 14,
   "metadata": {},
   "outputs": [
    {
     "data": {
      "image/png": "[encoded data removed]",
      "text/plain": [
       "<matplotlib.figure.Figure at 0x7efc133f5be0>"
      ]
     },
     "metadata": {},
     "output_type": "display_data"
    }
   ],
   "source": [
    "dcnet.hidden = dcnet.init_hidden()\n",
    "xout = dcnet(seq2_t[:250])\n",
    "x1 = xout[:-1].cpu().data.numpy() \n",
    "xx1=np.transpose(seq2_t[1:250,0,:].data.cpu().numpy())\n",
    "xx2=np.transpose(x1)\n",
    "\n",
    "plt.figure(figsize=(18,3))\n",
    "plt.subplot(3,1,1)\n",
    "plt.matshow(xx1, vmin=-0.1, vmax=1.1, fignum=False)\n",
    "plt.text(0,6,\"the tensor for the original template\")\n",
    "frame = plt.gca()\n",
    "frame.axes.yaxis.set_ticklabels([])\n",
    "\n",
    "plt.subplot(3,1,2)\n",
    "plt.matshow(xx2, vmin=-0.1, vmax=1.1, fignum=False)\n",
    "plt.text(0,6,\"reconstructed tensor from the DCNet\")\n",
    "frame = plt.gca()\n",
    "frame.axes.yaxis.set_ticklabels([])\n",
    "\n",
    "plt.subplot(3,1,3)\n",
    "plt.matshow(xx1-xx2, vmin=-0.1, vmax=1.1, fignum=False)\n",
    "plt.text(0,6,\"differences\");\n",
    "frame = plt.gca()\n",
    "frame.axes.yaxis.set_ticklabels([]);"
   ]
  },
  {
   "cell_type": "markdown",
   "metadata": {},
   "source": [
    "The following code snippet using DCNet to generate a consensus sequence with only the first base in the template. "
   ]
  },
  {
   "cell_type": "code",
   "execution_count": 15,
   "metadata": {},
   "outputs": [],
   "source": [
    "dcnet.hidden = dcnet.init_hidden()\n",
    "base_t= Variable(torch.FloatTensor([one_hot(c) for c in seq1[:5]])).cuda()\n",
    "\n",
    "consensus = []\n",
    "\n",
    "for _ in range(201):\n",
    "    xout = dcnet(base_t)\n",
    "    next_t = [0,0,0,0]\n",
    "    next_t[np.argmax(xout.cpu().data.numpy()[-1])]=1\n",
    "    consensus.append(next_t)\n",
    "    base_t= Variable(torch.FloatTensor([next_t])).cuda()\n",
    "    \n",
    "consensus = np.array(consensus)\n",
    "consensus = consensus.transpose()"
   ]
  },
  {
   "cell_type": "markdown",
   "metadata": {},
   "source": [
    "Let's compare the generated consensus to the original template for the first template sequence. If we have generate the consensus perfectly matching the original template, the elements of the third matrix will be all zeros (blue color). In this specific results, the consensus has one extra base at position ~65. Other than that, the DCNet is able to get other part correct."
   ]
  },
  {
   "cell_type": "code",
   "execution_count": 16,
   "metadata": {},
   "outputs": [
    {
     "data": {
      "image/png": "[encoded data removed]",
      "text/plain": [
       "<matplotlib.figure.Figure at 0x7efc1306ee10>"
      ]
     },
     "metadata": {},
     "output_type": "display_data"
    }
   ],
   "source": [
    "xx1=np.transpose(seq1_t[5:250,0,:].data.cpu().numpy())\n",
    "\n",
    "plt.figure(figsize=(18,3))\n",
    "plt.subplot(3,1,1)\n",
    "plt.matshow(xx1[:,0:201], vmin=-0.1, vmax=1.1, fignum=False)\n",
    "plt.text(0,6,\"the tensor for the original template\")\n",
    "frame = plt.gca()\n",
    "frame.axes.yaxis.set_ticklabels([])\n",
    "\n",
    "plt.subplot(3,1,2)\n",
    "plt.matshow(consensus, vmin=-0.1, vmax=1.1, fignum=False)\n",
    "plt.text(0,6,\"generated consensus from the DCNet\")\n",
    "frame = plt.gca()\n",
    "frame.axes.yaxis.set_ticklabels([])\n",
    "\n",
    "plt.subplot(3,1,3)\n",
    "plt.matshow(consensus-xx1[:,0:201], vmin=-0.1, vmax=1.1, fignum=False)\n",
    "plt.text(0,6,\"differences\")\n",
    "frame = plt.gca()\n",
    "frame.axes.yaxis.set_ticklabels([]);"
   ]
  },
  {
   "cell_type": "markdown",
   "metadata": {},
   "source": [
    "In this specific example, the DCNet contructs consensus for the second template perfectly."
   ]
  },
  {
   "cell_type": "code",
   "execution_count": 17,
   "metadata": {},
   "outputs": [
    {
     "data": {
      "image/png": "[encoded data removed]",
      "text/plain": [
       "<matplotlib.figure.Figure at 0x7efcea068ac8>"
      ]
     },
     "metadata": {},
     "output_type": "display_data"
    }
   ],
   "source": [
    "dcnet.hidden = dcnet.init_hidden()\n",
    "base_t= Variable(torch.FloatTensor([one_hot(c) for c in seq2[:5]])).cuda()\n",
    "\n",
    "consensus = []\n",
    "\n",
    "for _ in range(201):\n",
    "    xout = dcnet(base_t)\n",
    "    next_t = [0,0,0,0]\n",
    "    next_t[np.argmax(xout.cpu().data.numpy()[-1])]=1\n",
    "    consensus.append(next_t)\n",
    "    base_t= Variable(torch.FloatTensor([next_t])).cuda()\n",
    "    \n",
    "consensus = np.array(consensus)\n",
    "consensus = consensus.transpose()\n",
    "\n",
    "\n",
    "xx1=np.transpose(seq2_t[5:250,0,:].data.cpu().numpy())\n",
    "\n",
    "plt.figure(figsize=(18,3))\n",
    "plt.subplot(3,1,1)\n",
    "plt.matshow(xx1[:,0:201], vmin=-0.1, vmax=1.1, fignum=False)\n",
    "plt.text(0,6,\"the tensor for the original template\")\n",
    "frame = plt.gca()\n",
    "frame.axes.yaxis.set_ticklabels([])\n",
    "\n",
    "plt.subplot(3,1,2)\n",
    "plt.matshow(consensus, vmin=-0.1, vmax=1.1, fignum=False)\n",
    "plt.text(0,6,\"generated consensus from the DCNet\")\n",
    "frame = plt.gca()\n",
    "frame.axes.yaxis.set_ticklabels([])\n",
    "\n",
    "plt.subplot(3,1,3)\n",
    "plt.matshow(consensus-xx1[:,0:201], vmin=-0.1, vmax=1.1, fignum=False)\n",
    "plt.text(0,6,\"differences\")\n",
    "frame = plt.gca()\n",
    "frame.axes.yaxis.set_ticklabels([]);"
   ]
  },
  {
   "cell_type": "markdown",
   "metadata": {},
   "source": [
    "Jason Chin, Mar. 2018"
   ]
  }
 ],
 "metadata": {
  "kernelspec": {
   "display_name": "Python 3",
   "language": "python",
   "name": "python3"
  },
  "language_info": {
   "codemirror_mode": {
    "name": "ipython",
    "version": 3
   },
   "file_extension": ".py",
   "mimetype": "text/x-python",
   "name": "python",
   "nbconvert_exporter": "python",
   "pygments_lexer": "ipython3",
   "version": "3.6.3"
  }
 },
 "nbformat": 4,
 "nbformat_minor": 2
}
